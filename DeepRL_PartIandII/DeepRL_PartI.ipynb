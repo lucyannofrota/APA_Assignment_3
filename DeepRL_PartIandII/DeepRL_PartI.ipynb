{
  "cells": [
    {
      "cell_type": "markdown",
      "metadata": {
        "id": "Ssxiwwi66Se3"
      },
      "source": [
        "Install dependencies"
      ]
    },
    {
      "cell_type": "code",
      "execution_count": 21,
      "metadata": {
        "colab": {
          "base_uri": "https://localhost:8080/"
        },
        "id": "idJX2upP6O8W",
        "outputId": "af0cfcf7-ac74-4fa7-bf34-265362c01bba"
      },
      "outputs": [
        {
          "name": "stdout",
          "output_type": "stream",
          "text": [
            "E: Could not open lock file /var/lib/dpkg/lock-frontend - open (13: Permission denied)\n",
            "E: Unable to acquire the dpkg frontend lock (/var/lib/dpkg/lock-frontend), are you root?\n",
            "Requirement already satisfied: gym[box2d]==0.17.* in /home/yukie/anaconda3/envs/APA/lib/python3.9/site-packages (0.17.3)\n",
            "Requirement already satisfied: pyvirtualdisplay==0.2.* in /home/yukie/anaconda3/envs/APA/lib/python3.9/site-packages (0.2.5)\n",
            "Requirement already satisfied: PyOpenGL==3.1.* in /home/yukie/anaconda3/envs/APA/lib/python3.9/site-packages (3.1.5)\n",
            "Requirement already satisfied: PyOpenGL-accelerate==3.1.* in /home/yukie/anaconda3/envs/APA/lib/python3.9/site-packages (3.1.5)\n",
            "Requirement already satisfied: scipy in /home/yukie/anaconda3/envs/APA/lib/python3.9/site-packages (from gym[box2d]==0.17.*) (1.7.1)\n",
            "Requirement already satisfied: numpy>=1.10.4 in /home/yukie/anaconda3/envs/APA/lib/python3.9/site-packages (from gym[box2d]==0.17.*) (1.20.3)\n",
            "Requirement already satisfied: cloudpickle<1.7.0,>=1.2.0 in /home/yukie/anaconda3/envs/APA/lib/python3.9/site-packages (from gym[box2d]==0.17.*) (1.6.0)\n",
            "Requirement already satisfied: pyglet<=1.5.0,>=1.4.0 in /home/yukie/anaconda3/envs/APA/lib/python3.9/site-packages (from gym[box2d]==0.17.*) (1.5.0)\n",
            "Requirement already satisfied: box2d-py~=2.3.5 in /home/yukie/anaconda3/envs/APA/lib/python3.9/site-packages (from gym[box2d]==0.17.*) (2.3.8)\n",
            "Requirement already satisfied: EasyProcess in /home/yukie/anaconda3/envs/APA/lib/python3.9/site-packages (from pyvirtualdisplay==0.2.*) (0.3)\n",
            "Requirement already satisfied: future in /home/yukie/anaconda3/envs/APA/lib/python3.9/site-packages (from pyglet<=1.5.0,>=1.4.0->gym[box2d]==0.17.*) (0.18.2)\n"
          ]
        }
      ],
      "source": [
        "!pip install gym pyvirtualdisplay > /dev/null 2>&1\n",
        "!apt-get install -y xvfb python-opengl ffmpeg > /dev/null 2>&1\n",
        "# install required system dependencies\n",
        "!apt-get install -y xvfb x11-utils\n",
        "\n",
        "# install required python dependencies (might need to install additional gym extras depending)\n",
        "!pip install gym[box2d]==0.17.* pyvirtualdisplay==0.2.* PyOpenGL==3.1.* PyOpenGL-accelerate==3.1.*"
      ]
    },
    {
      "cell_type": "code",
      "execution_count": 22,
      "metadata": {
        "colab": {
          "base_uri": "https://localhost:8080/"
        },
        "id": "-1O4fl6bwGG_",
        "outputId": "b555e1ae-2aea-4089-e052-d4ecf0483257"
      },
      "outputs": [
        {
          "name": "stdout",
          "output_type": "stream",
          "text": [
            "True\n",
            "cuda:0\n"
          ]
        }
      ],
      "source": [
        "#@title Imports\n",
        "import numpy as np\n",
        "import matplotlib.pyplot as plt\n",
        "import time\n",
        "from matplotlib.pyplot import figure\n",
        "\n",
        "import gym\n",
        "import torch\n",
        "from torch.utils import data\n",
        "import torch.nn as nn\n",
        "import torch.optim as optim\n",
        "import torch.autograd as autograd\n",
        "import random\n",
        "from gym import wrappers\n",
        "import copy\n",
        "import gym\n",
        "from gym.wrappers import Monitor\n",
        "import glob\n",
        "import io\n",
        "import base64\n",
        "from IPython.display import HTML\n",
        "from pyvirtualdisplay import Display\n",
        "from IPython import display as ipythondisplay\n",
        "\n",
        "display = Display(visible=0, size=(1400, 900))\n",
        "display.start()\n",
        "device = torch.device('cuda:0' if torch.cuda.is_available() else 'cpu')\n",
        "print(torch.cuda.is_available())\n",
        "print(device)\n",
        "\n",
        "from PartI_lib import archs as archs\n",
        "from PartI_lib import performance_evaluation as eval\n",
        "from PartI_lib import train_loop as tl\n",
        "from PartI_lib import my_tools as mt\n",
        "# !mkdir Checkpoints\n"
      ]
    },
    {
      "cell_type": "code",
      "execution_count": 23,
      "metadata": {
        "id": "IIeU54J8wXkI"
      },
      "outputs": [],
      "source": [
        "#@title Deep RL Replay Buffer\n",
        "\n",
        "class ReplayBuffer:\n",
        "    def __init__(self, size, input_shape,dev):\n",
        "        self.size = size\n",
        "        self.counter = 0\n",
        "        self.state_buffer = torch.zeros((self.size, input_shape))\n",
        "        self.action_buffer = torch.zeros(self.size, dtype=torch.int64)\n",
        "        self.reward_buffer = torch.zeros(self.size)\n",
        "        self.new_state_buffer = torch.zeros((self.size, input_shape))\n",
        "        self.terminal_buffer = torch.zeros(self.size)\n",
        "        self.state_buffer.to(dev)\n",
        "        self.action_buffer.to(dev)\n",
        "        self.reward_buffer.to(dev)\n",
        "        self.new_state_buffer.to(dev)\n",
        "        self.terminal_buffer.to(dev)\n",
        "        self.dev=dev;\n",
        "\n",
        "\n",
        "\n",
        "    def store_tuples(self, state, action, reward, new_state, done):\n",
        "        idx = self.counter % self.size\n",
        "        self.state_buffer[idx] = state\n",
        "        self.action_buffer[idx] = action\n",
        "        self.reward_buffer[idx] = reward\n",
        "        self.new_state_buffer[idx] = new_state\n",
        "        self.terminal_buffer[idx] = done\n",
        "        self.counter += 1\n",
        "\n",
        "    def sample_buffer(self, batch_size):\n",
        "        max_buffer = min(self.counter, self.size)\n",
        "        batch = np.random.choice(max_buffer, batch_size, replace=False)\n",
        "        state_batch = self.state_buffer[batch].to(self.dev)\n",
        "        action_batch = self.action_buffer[batch].to(self.dev)\n",
        "        reward_batch = self.reward_buffer[batch].to(self.dev)\n",
        "        new_state_batch = self.new_state_buffer[batch].to(self.dev)\n",
        "        done_batch = self.terminal_buffer[batch].to(self.dev)\n",
        "\n",
        "        return state_batch, action_batch, reward_batch, new_state_batch, done_batch\n",
        "    def last_buffer(self, batch_size):\n",
        "        state_batch = self.state_buffer[-1:-batch_size].to(self.dev)\n",
        "        action_batch = self.action_buffer[-1:-batch_size].to(self.dev)\n",
        "        reward_batch = self.reward_buffer[-1:-batch_size].to(self.dev)\n",
        "        new_state_batch = self.new_state_buffer[-1:-batch_size].to(self.dev)\n",
        "        done_batch = self.terminal_buffer[-1:-batch_size].to(self.dev)\n",
        "\n",
        "        return state_batch, action_batch, reward_batch, new_state_batch, done_batch\n"
      ]
    },
    {
      "cell_type": "markdown",
      "metadata": {
        "id": "fG0T040FwczS"
      },
      "source": [
        "Default DQN arquitecture"
      ]
    },
    {
      "cell_type": "code",
      "execution_count": 24,
      "metadata": {
        "id": "aGrl7mfpwgfM"
      },
      "outputs": [],
      "source": [
        "# class DQN(nn.Module):\n",
        "\n",
        "#     def __init__(self, inputs, outputs,dfactor):\n",
        "#         super(DQN, self).__init__()\n",
        "        \n",
        "#         self.input_size=inputs;\n",
        "#         self.output_size=outputs;\n",
        "#         self.discount_factor=dfactor;\n",
        "        \n",
        "#         self.layers = nn.Sequential(\n",
        "#             nn.Linear(in_features=self.input_size, out_features=128),\n",
        "#             # nn.Linear(in_features=128, out_features=256),\n",
        "#             # nn.Linear(in_features=256, out_features=512),\n",
        "#             # nn.Linear(in_features=512, out_features=256),\n",
        "#             nn.Linear(in_features=128, out_features=self.output_size)\n",
        "#         )\n",
        "\n",
        "\n",
        "#     # Called with either one element to determine next action, or a batch\n",
        "#     # during optimization. Returns tensor([[left0exp,right0exp]...]).\n",
        "#     def forward(self, x):\n",
        "#         return self.layers(x)\n",
        "\n",
        "#     def policy(self,state):\n",
        "#        with torch.no_grad():\n",
        "#             return self.__call__(state).argmax()\n",
        "     \n",
        "#     def getPolicy(self,state,eps_threshold):\n",
        "#         sample = random.random()\n",
        "#         if sample > eps_threshold:\n",
        "#             with torch.no_grad():\n",
        " \n",
        "#                 return self.__call__(state).argmax()\n",
        "#         else:\n",
        "#             return  torch.tensor([[random.randrange(self.output_size)]], device=device, dtype=torch.long)\n",
        "\n",
        "\n",
        "\n",
        " "
      ]
    },
    {
      "cell_type": "markdown",
      "metadata": {
        "id": "e9Cz-vtcwv1s"
      },
      "source": [
        "OpenAI Environment CartPole-v0\n",
        "\n",
        "###    Description:\n",
        "        A pole is attached by an un-actuated joint to a cart, which moves along a frictionless track. The pendulum starts upright, and the goal is to prevent it from falling over by increasing and reducing the cart's velocity.\n",
        "###    Source:\n",
        "        This environment corresponds to the version of the cart-pole problem described by Barto, Sutton, and Anderson\n",
        "###    Observation:\n",
        "        Type: Box(4)\n",
        "        Num     Observation               Min                     Max\n",
        "        0       Cart Position             -4.8                    4.8\n",
        "        1       Cart Velocity             -Inf                    Inf\n",
        "        2       Pole Angle                -0.418 rad (-24 deg)    0.418 rad (24 deg)\n",
        "        3       Pole Angular Velocity     -Inf                    Inf\n",
        "###    Actions:\n",
        "        Type: Discrete(2)\n",
        "        Num   Action\n",
        "        0     Push cart to the left\n",
        "        1     Push cart to the right\n",
        "        Note: The amount the velocity that is reduced or increased is not fixed; it depends on the angle the pole is pointing. This is because the center of gravity of the pole increases the amount of energy needed to move the cart underneath it\n",
        "###    Reward:\n",
        "        Reward is 1 for every step taken, including the termination step\n",
        "###    Starting State:\n",
        "        All observations are assigned a uniform random value in [-0.05..0.05]\n",
        "###    Episode Termination:\n",
        "        Pole Angle is more than 12 degrees.\n",
        "        Cart Position is more than 2.4 (center of the cart reaches the edge of the display).\n",
        "        Episode length is greater than 200.\n",
        "###     Solved Requirements:\n",
        "        Considered solved when the average return is greater than or equal to 195.0 over 20 consecutive trials."
      ]
    },
    {
      "cell_type": "code",
      "execution_count": 25,
      "metadata": {
        "cellView": "form",
        "id": "dVwFwJMNxoCw"
      },
      "outputs": [],
      "source": [
        "#@title DQN movie generation (for visual evaluation in Google Colab)\n",
        "def createMovie(Network,path,Filename):\n",
        "    env = gym.make(\"CartPole-v0\")\n",
        "    envX = wrappers.Monitor(env,path+'/'+Filename,force=True)\n",
        "\n",
        "    observation = envX.reset()\n",
        "\n",
        "    i=0\n",
        "    Network.eval()\n",
        "\n",
        "    while True:\n",
        "        envX.render()\n",
        "        \n",
        "        state=torch.Tensor(observation).to(device)\n",
        "      \n",
        "        action = Network.policy(state);\n",
        "             \n",
        "        observation, reward, done, info = envX.step(action.item()) \n",
        "        i=i+1;     \n",
        "        if done: \n",
        "          break;\n",
        "\n",
        "    envX.close()\n",
        "    env.close();\n",
        "    Network.train()\n",
        "    mp4list = glob.glob(path+'/'+Filename+'/*.mp4')\n",
        "    if len(mp4list) > 0:\n",
        "        mp4 = mp4list[0]\n",
        "        video = io.open(mp4, 'r+b').read()\n",
        "        encoded = base64.b64encode(video)\n",
        "        ipythondisplay.display(HTML(data='''<video alt=\"test\" autoplay \n",
        "                loop controls style=\"height: 400px;\">\n",
        "                <source src=\"data:video/mp4;base64,{0}\" type=\"video/mp4\" />\n",
        "             </video>'''.format(encoded.decode('ascii'))))\n",
        "    else: \n",
        "        print(\"Could not find video\")"
      ]
    },
    {
      "cell_type": "markdown",
      "metadata": {
        "id": "M7SRgxRm5Ti-"
      },
      "source": [
        "Run the new netwwork with random policy"
      ]
    },
    {
      "cell_type": "code",
      "execution_count": 26,
      "metadata": {
        "colab": {
          "base_uri": "https://localhost:8080/",
          "height": 421
        },
        "id": "Z0YCI9TL5Szv",
        "outputId": "7c9f00b2-80d3-4981-a5a9-fcd8e0c05d7a"
      },
      "outputs": [],
      "source": [
        "# randomnet=RandomNet(2)\n",
        "# createMovie(randomnet,\"random\")"
      ]
    },
    {
      "cell_type": "markdown",
      "metadata": {
        "id": "OsEv2cZLwy3e"
      },
      "source": [
        "Initialization and Parameters:\n"
      ]
    },
    {
      "cell_type": "code",
      "execution_count": 27,
      "metadata": {
        "colab": {
          "base_uri": "https://localhost:8080/"
        },
        "id": "6yygleEXxEpG",
        "outputId": "6252a170-0e96-443e-f1eb-5fb7d078a71e"
      },
      "outputs": [
        {
          "name": "stdout",
          "output_type": "stream",
          "text": [
            "DQN(\n",
            "  (layers): Sequential(\n",
            "    (0): Linear(in_features=4, out_features=128, bias=True)\n",
            "    (1): ReLU()\n",
            "    (2): Linear(in_features=128, out_features=256, bias=True)\n",
            "    (3): ReLU()\n",
            "    (4): Linear(in_features=256, out_features=2, bias=True)\n",
            "  )\n",
            ")\n",
            "DQN_128_1_001_2e-03_099_1e-03_097\n"
          ]
        }
      ],
      "source": [
        "\n",
        "\n",
        "# Sim configuration\n",
        "env = gym.make(\"CartPole-v0\")\n",
        "spec = gym.spec(\"CartPole-v0\")\n",
        "\n",
        "\n",
        "\n",
        "inputs=4\n",
        "n_actions=2\n",
        "\n",
        "#hyper-parameters\n",
        "TotalEpisodes=2000\n",
        "MaxSteps=200\n",
        "FreezeCounter=25\n",
        "BatchSize=128\n",
        "exploration_threshold=1\n",
        "exploration_threshold_min=0.01\n",
        "exploration_decay=0.002\n",
        "discount_factor=0.99\n",
        "SaveAtCounter=99999\n",
        "LearningRate=0.001\n",
        "LearningRateDecay=0.97\n",
        "\n",
        "\n",
        "arch = \"DQN\"\n",
        "n_layers = 4\n",
        "\n",
        "#network DQN\n",
        "policy_net, target_net = archs.archs(arch,inputs,n_actions,discount_factor,device,n_layers)\n",
        "# policy_net = DQN(inputs, n_actions,discount_factor).to(device)\n",
        "# target_net = DQN(inputs, n_actions,discount_factor).to(device)\n",
        "target_net.load_state_dict(policy_net.state_dict())\n",
        "target_net.eval()\n",
        "\n",
        "buffer = ReplayBuffer(1000000, inputs,device);\n",
        "\n",
        "print(policy_net)\n",
        "\n",
        "optimizer = torch.optim.Adam(policy_net.parameters(), lr=LearningRate)\n",
        "scheduler = optim.lr_scheduler.ExponentialLR(optimizer,gamma=LearningRateDecay)\n",
        "loss = torch.nn.MSELoss()\n",
        "\n",
        "\n",
        "file_name = mt.set_name(arch,BatchSize,exploration_threshold,exploration_threshold_min,exploration_decay,discount_factor,LearningRate,LearningRateDecay)\n",
        "file_path = mt.create_dir(\"results\",file_name)\n",
        "mt.create_dir(file_path,\"Checkpoints\")\n",
        "print(file_name)"
      ]
    },
    {
      "cell_type": "markdown",
      "metadata": {
        "id": "VVf5wZAHxOST"
      },
      "source": [
        "DQN training"
      ]
    },
    {
      "cell_type": "code",
      "execution_count": 44,
      "metadata": {
        "id": "IPMrYDxyxVT1"
      },
      "outputs": [],
      "source": [
        "def trainModel(double = False, dueling = False):\n",
        "    if buffer.counter < BatchSize:\n",
        "        return 0.0\n",
        "         \n",
        "    state_batch, action_batch, reward_batch, new_state_batch, done_batch = buffer.sample_buffer(BatchSize)\n",
        "    double = True;\n",
        "        \n",
        "    q_actual = torch.gather(policy_net(state_batch),1,action_batch.reshape(-1,1))\n",
        "    \n",
        "    with torch.no_grad():\n",
        "        if(double):\n",
        "            target = torch.argmax(policy_net(state_batch), -1).detach()\n",
        "            q_max_next = target_net(new_state_batch).gather(1, target.unsqueeze(-1)).squeeze(-1)\n",
        "        else:\n",
        "            q_max_next = target_net(new_state_batch).max(1)[0].detach()\n",
        "\n",
        "    q_target = (q_max_next * discount_factor)*(1-done_batch) + reward_batch\n",
        "\n",
        "    ll=loss(q_actual, q_target.unsqueeze(1))\n",
        "\n",
        "    # Optimize the model\n",
        "    optimizer.zero_grad()\n",
        "    ll.backward()\n",
        "    for param in policy_net.parameters():\n",
        "        param.grad.data.clamp_(-1, 1)\n",
        "    optimizer.step()\n",
        "\n",
        "    return ll.item();"
      ]
    },
    {
      "cell_type": "markdown",
      "metadata": {
        "id": "SiLK6ZG3xlUd"
      },
      "source": []
    },
    {
      "cell_type": "code",
      "execution_count": 46,
      "metadata": {
        "colab": {
          "base_uri": "https://localhost:8080/",
          "height": 1000
        },
        "id": "wv8KK14wxs5r",
        "outputId": "ba605ecb-9daa-4e8d-de80-2766bee910b9"
      },
      "outputs": [
        {
          "name": "stdout",
          "output_type": "stream",
          "text": [
            "0 of 2000\n",
            "16.0 16 16.0 16.0\n",
            "20.0 20 18.0 18.0\n",
            "25.0 25 20.333333333333332 20.333333333333332\n",
            "66.0 66 29.0 29.0\n",
            "25 of 2000\n",
            "50 of 2000\n",
            "72.0 72 26.25 27.10958904109589\n",
            "75 of 2000\n",
            "101.0 101 29.75 27.329545454545453\n",
            "100 of 2000\n",
            "125 of 2000\n",
            "120.0 120 31.75 29.32\n",
            "150 of 2000\n",
            "175 of 2000\n",
            "197.0 197 41.55 34.45\n",
            "200 of 2000\n",
            "225 of 2000\n",
            "250 of 2000\n",
            "200.0 200 90.0 49.58\n",
            "200.0 200 85.65 55.15\n",
            "275 of 2000\n",
            "200.0 200 76.1 61.95\n",
            "300 of 2000\n",
            "200.0 200 86.25 66.22\n",
            "200.0 200 101.25 80.99\n",
            "200.0 200 105.3 81.97\n",
            "200.0 200 109.25 83.28\n",
            "200.0 200 117.35 84.93\n",
            "325 of 2000\n",
            "200.0 200 124.7 86.76\n",
            "200.0 200 121.35 88.44\n",
            "200.0 200 126.95 91.03\n",
            "200.0 200 138.85 95.24\n",
            "200.0 200 149.85 97.03\n",
            "200.0 200 154.35 98.81\n",
            "200.0 200 158.95 100.31\n",
            "200.0 200 150.95 103.91\n",
            "200.0 200 150.95 104.52\n",
            "200.0 200 155.55 105.98\n",
            "200.0 200 155.55 107.28\n",
            "350 of 2000\n",
            "200.0 200 153.25 108.56\n",
            "200.0 200 147.75 112.3\n",
            "200.0 200 139.55 113.41\n",
            "200.0 200 139.55 114.85\n",
            "200.0 200 144.05 116.27\n",
            "200.0 200 150.85 120.13\n",
            "375 of 2000\n",
            "200.0 200 142.55 121.18\n",
            "200.0 200 135.05 123.6\n",
            "200.0 200 140.0 125.17\n",
            "200.0 200 119.9 127.57\n",
            "200.0 200 119.9 128.56\n",
            "200.0 200 123.65 130.0\n",
            "200.0 200 127.75 130.63\n",
            "200.0 200 138.25 133.57\n",
            "200.0 200 143.5 134.86\n",
            "200.0 200 142.5 136.51\n",
            "200.0 200 148.4 136.64\n",
            "200.0 200 151.5 137.68\n",
            "400 of 2000\n",
            "200.0 200 158.3 138.01\n",
            "200.0 200 150.0 136.77\n",
            "200.0 200 156.0 138.32\n",
            "200.0 200 161.95 138.54\n",
            "200.0 200 159.6 139.82\n",
            "200.0 200 159.6 141.45\n",
            "200.0 200 156.3 142.56\n",
            "200.0 200 149.65 143.87\n",
            "200.0 200 156.85 145.0\n",
            "200.0 200 156.85 146.34\n",
            "200.0 200 156.85 147.77\n",
            "200.0 200 155.35 148.18\n",
            "200.0 200 155.35 148.83\n",
            "200.0 200 162.65 148.83\n",
            "200.0 200 169.55 148.83\n",
            "200.0 200 169.55 148.83\n",
            "200.0 200 177.25 148.83\n",
            "425 of 2000\n",
            "200.0 200 177.25 148.83\n",
            "200.0 200 177.25 150.1\n",
            "200.0 200 168.8 150.94\n",
            "200.0 200 174.35 151.61\n",
            "200.0 200 175.5 151.61\n",
            "200.0 200 175.5 151.71\n",
            "200.0 200 182.15 152.11\n",
            "200.0 200 182.15 153.66\n",
            "200.0 200 182.15 153.66\n",
            "200.0 200 182.15 154.23\n",
            "200.0 200 182.15 154.23\n",
            "200.0 200 183.85 153.16\n",
            "200.0 200 183.85 153.4\n",
            "200.0 200 183.85 153.56\n",
            "200.0 200 183.85 155.41\n",
            "200.0 200 183.85 155.41\n",
            "200.0 200 183.85 155.41\n",
            "200.0 200 183.85 156.31\n",
            "200.0 200 183.85 158.07\n",
            "200.0 200 191.45 158.76\n",
            "200.0 200 194.65 158.76\n",
            "200.0 200 194.65 158.76\n",
            "450 of 2000\n",
            "200.0 200 194.65 159.24\n",
            "200.0 200 194.65 159.99\n",
            "200.0 200 194.65 159.99\n",
            "200.0 200 194.65 161.09\n",
            "200.0 200 194.65 162.18\n",
            "200.0 200 192.9 162.49\n",
            "200.0 200 192.9 163.26\n",
            "200.0 200 198.25 163.26\n",
            "200.0 200 198.25 163.88\n",
            "200.0 200 198.25 165.06\n",
            "200.0 200 198.25 166.16\n",
            "200.0 200 198.25 167.15\n",
            "200.0 200 198.25 167.15\n",
            "200.0 200 198.25 167.15\n",
            "200.0 200 198.25 167.15\n",
            "200.0 200 198.25 167.81\n",
            "200.0 200 198.25 168.24\n",
            "200.0 200 198.25 168.24\n",
            "200.0 200 198.25 168.99\n",
            "200.0 200 198.25 169.44\n",
            "200.0 200 198.25 170.31\n",
            "200.0 200 198.25 170.96\n",
            "200.0 200 198.25 172.59\n",
            "200.0 200 198.25 173.64\n",
            "475 of 2000\n",
            "200.0 200 200.0 173.64\n",
            "200.0 200 198.1 175.68\n",
            "200.0 200 198.1 176.3\n",
            "200.0 200 198.1 177.44\n",
            "200.0 200 198.1 178.77\n",
            "200.0 200 198.1 178.77\n",
            "200.0 200 192.9 180.31\n",
            "200.0 200 191.35 182.53\n",
            "200.0 200 189.45 182.15\n",
            "200.0 200 189.45 182.15\n",
            "200.0 200 184.05 183.19\n",
            "200.0 200 185.95 183.19\n",
            "200.0 200 184.9 182.98\n",
            "500 of 2000\n",
            "200.0 200 183.55 183.82\n",
            "200.0 200 185.0 186.59\n",
            "200.0 200 188.4 186.59\n",
            "200.0 200 188.4 188.13\n",
            "200.0 200 189.95 188.13\n",
            "200.0 200 191.25 189.33\n",
            "200.0 200 191.35 189.56\n",
            "200.0 200 192.95 189.56\n",
            "200.0 200 195.1 190.89\n",
            "200.0 200 194.3 190.68\n",
            "200.0 200 195.05 190.62\n",
            "200.0 200 195.05 191.76\n",
            "200.0 200 194.2 191.52\n",
            "525 of 2000\n",
            "200.0 200 192.95 191.27\n",
            "200.0 200 193.15 191.27\n",
            "200.0 200 193.9 192.79\n",
            "200.0 200 194.55 193.43\n",
            "200.0 200 194.85 193.43\n",
            "200.0 200 194.85 193.43\n",
            "200.0 200 193.5 193.16\n",
            "200.0 200 193.5 193.16\n",
            "200.0 200 194.55 193.16\n",
            "200.0 200 194.55 193.16\n",
            "200.0 200 194.85 193.16\n",
            "200.0 200 194.85 193.16\n",
            "200.0 200 195.1 194.23\n",
            "200.0 200 196.2 194.23\n",
            "200.0 200 196.2 194.23\n",
            "200.0 200 197.4 194.23\n",
            "200.0 200 197.35 194.06\n",
            "200.0 200 197.5 194.0\n",
            "200.0 200 197.5 194.0\n",
            "200.0 200 197.5 194.0\n",
            "200.0 200 197.5 194.0\n",
            "200.0 200 197.5 194.0\n",
            "550 of 2000\n",
            "200.0 200 197.5 194.0\n",
            "200.0 200 198.85 194.0\n",
            "200.0 200 197.75 193.78\n",
            "200.0 200 197.75 193.78\n",
            "200.0 200 197.75 194.13\n",
            "200.0 200 197.75 194.13\n",
            "200.0 200 197.75 194.13\n",
            "200.0 200 197.75 194.13\n",
            "200.0 200 197.6 194.1\n",
            "200.0 200 197.6 194.1\n",
            "200.0 200 198.45 194.1\n",
            "200.0 200 198.45 194.1\n",
            "200.0 200 198.75 194.1\n",
            "200.0 200 198.75 194.1\n",
            "200.0 200 198.75 194.1\n",
            "200.0 200 198.75 194.1\n",
            "200.0 200 198.75 194.1\n",
            "200.0 200 196.55 193.66\n",
            "200.0 200 195.8 193.29\n",
            "200.0 200 195.8 193.29\n",
            "575 of 2000\n",
            "200.0 200 195.8 193.29\n",
            "200.0 200 195.8 193.67\n",
            "200.0 200 195.8 193.67\n",
            "200.0 200 195.8 193.67\n",
            "200.0 200 195.95 193.67\n",
            "200.0 200 195.95 193.67\n",
            "200.0 200 195.95 193.67\n",
            "200.0 200 195.95 194.03\n",
            "200.0 200 195.95 194.71\n",
            "200.0 200 195.95 194.71\n",
            "200.0 200 195.95 195.02\n"
          ]
        }
      ],
      "source": [
        "# import sys\n",
        "# sys.path.insert(1, '/PartI_lib')\n",
        "# from PartI_lib import train_loop as tl\n",
        "bestNet, episodes, scores, events, avg_scores, avg_scores20, exploration, avg_scores100 = tl.train_loop(policy_net, target_net, env, device, TotalEpisodes, FreezeCounter, SaveAtCounter, createMovie, MaxSteps, exploration_threshold, exploration_decay, exploration_threshold_min, buffer, trainModel,file_path)"
      ]
    },
    {
      "cell_type": "markdown",
      "metadata": {
        "id": "_qEpTPbGxu_M"
      },
      "source": [
        "Plot performance"
      ]
    },
    {
      "cell_type": "code",
      "execution_count": 1,
      "metadata": {
        "id": "uWwFBt0vxxEd"
      },
      "outputs": [
        {
          "ename": "AttributeError",
          "evalue": "'builtin_function_or_method' object has no attribute 'performance_evaluation'",
          "output_type": "error",
          "traceback": [
            "\u001b[0;31m---------------------------------------------------------------------------\u001b[0m",
            "\u001b[0;31mAttributeError\u001b[0m                            Traceback (most recent call last)",
            "\u001b[0;32m/tmp/ipykernel_31128/2760825636.py\u001b[0m in \u001b[0;36m<module>\u001b[0;34m\u001b[0m\n\u001b[1;32m     11\u001b[0m \u001b[0;31m# plt.show()\u001b[0m\u001b[0;34m\u001b[0m\u001b[0;34m\u001b[0m\u001b[0m\n\u001b[1;32m     12\u001b[0m \u001b[0;34m\u001b[0m\u001b[0m\n\u001b[0;32m---> 13\u001b[0;31m \u001b[0meval\u001b[0m\u001b[0;34m.\u001b[0m\u001b[0mperformance_evaluation\u001b[0m\u001b[0;34m(\u001b[0m\u001b[0mfile_path\u001b[0m\u001b[0;34m,\u001b[0m\u001b[0mepisodes\u001b[0m\u001b[0;34m,\u001b[0m \u001b[0mscores\u001b[0m\u001b[0;34m,\u001b[0m \u001b[0mevents\u001b[0m\u001b[0;34m,\u001b[0m \u001b[0mavg_scores\u001b[0m\u001b[0;34m,\u001b[0m \u001b[0mavg_scores20\u001b[0m\u001b[0;34m,\u001b[0m \u001b[0mexploration\u001b[0m\u001b[0;34m)\u001b[0m\u001b[0;34m\u001b[0m\u001b[0;34m\u001b[0m\u001b[0m\n\u001b[0m\u001b[1;32m     14\u001b[0m eval.report(file_path,arch,BatchSize,exploration_threshold,exploration_threshold_min,exploration_decay,discount_factor,\n\u001b[1;32m     15\u001b[0m                     LearningRate,LearningRateDecay,episodes, scores, events, avg_scores, avg_scores20, exploration, n_layers)\n",
            "\u001b[0;31mAttributeError\u001b[0m: 'builtin_function_or_method' object has no attribute 'performance_evaluation'"
          ]
        }
      ],
      "source": [
        "# figure(figsize=(12, 6), dpi=80)\n",
        "# plt.plot(episodes, scores)\n",
        "# plt.plot(episodes, events)\n",
        "# plt.plot(episodes, avg_scores)\n",
        "# plt.plot(episodes, avg_scores20)\n",
        "# plt.plot(episodes, exploration)\n",
        "# plt.xlabel('episodes')\n",
        "# plt.ylabel('y axis label')\n",
        "# plt.title('Report')\n",
        "# plt.legend(['scores',  'events', 'avg_scores', 'avg_scores20','exploration'])\n",
        "# plt.show()\n",
        "\n",
        "eval.performance_evaluation(file_path,episodes, scores, events, avg_scores, avg_scores20, exploration)\n",
        "eval.report(file_path,arch,BatchSize,exploration_threshold,exploration_threshold_min,exploration_decay,discount_factor,\n",
        "                    LearningRate,LearningRateDecay,episodes, scores, events, avg_scores, avg_scores20, exploration, n_layers)\n",
        "# BatchSize=128\n",
        "# exploration_threshold=1\n",
        "# exploration_threshold_min=0.01\n",
        "# exploration_decay=0.002\n",
        "# discount_factor=0.99\n",
        "# LearningRate=0.001\n",
        "# LearningRateDecay=0.97"
      ]
    },
    {
      "cell_type": "markdown",
      "metadata": {
        "id": "i7IDgBVCx3mZ"
      },
      "source": [
        "View Best Results"
      ]
    },
    {
      "cell_type": "code",
      "execution_count": null,
      "metadata": {
        "id": "T9RpF49oOsZj"
      },
      "outputs": [
        {
          "data": {
            "text/html": [
              "<video alt=\"test\" autoplay \n",
              "                loop controls style=\"height: 400px;\">\n",
              "                <source src=\"data:video/mp4;base64,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\" type=\"video/mp4\" />\n",
              "             </video>"
            ],
            "text/plain": [
              "<IPython.core.display.HTML object>"
            ]
          },
          "metadata": {},
          "output_type": "display_data"
        }
      ],
      "source": [
        "createMovie(bestNet,file_path,'bestNet')"
      ]
    }
  ],
  "metadata": {
    "accelerator": "GPU",
    "colab": {
      "collapsed_sections": [],
      "name": "DeepRL_PartI.ipynb",
      "provenance": []
    },
    "kernelspec": {
      "display_name": "Python 3",
      "name": "python3"
    },
    "language_info": {
      "codemirror_mode": {
        "name": "ipython",
        "version": 3
      },
      "file_extension": ".py",
      "mimetype": "text/x-python",
      "name": "python",
      "nbconvert_exporter": "python",
      "pygments_lexer": "ipython3",
      "version": "3.9.7"
    }
  },
  "nbformat": 4,
  "nbformat_minor": 0
}
