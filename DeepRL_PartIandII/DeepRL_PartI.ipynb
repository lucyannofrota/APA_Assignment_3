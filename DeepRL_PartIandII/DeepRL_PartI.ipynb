{
  "cells": [
    {
      "cell_type": "markdown",
      "metadata": {
        "id": "Ssxiwwi66Se3"
      },
      "source": [
        "Install dependencies"
      ]
    },
    {
      "cell_type": "code",
      "execution_count": 1,
      "metadata": {
        "colab": {
          "base_uri": "https://localhost:8080/"
        },
        "id": "idJX2upP6O8W",
        "outputId": "af0cfcf7-ac74-4fa7-bf34-265362c01bba"
      },
      "outputs": [
        {
          "name": "stdout",
          "output_type": "stream",
          "text": [
            "Reading package lists... Done\n",
            "Building dependency tree       \n",
            "Reading state information... Done\n",
            "x11-utils is already the newest version (7.7+3build1).\n",
            "xvfb is already the newest version (2:1.19.6-1ubuntu4.9).\n",
            "0 upgraded, 0 newly installed, 0 to remove and 37 not upgraded.\n",
            "Requirement already satisfied: gym[box2d]==0.17.* in /usr/local/lib/python3.7/dist-packages (0.17.3)\n",
            "Requirement already satisfied: pyvirtualdisplay==0.2.* in /usr/local/lib/python3.7/dist-packages (0.2.5)\n",
            "Requirement already satisfied: PyOpenGL==3.1.* in /usr/local/lib/python3.7/dist-packages (3.1.5)\n",
            "Requirement already satisfied: PyOpenGL-accelerate==3.1.* in /usr/local/lib/python3.7/dist-packages (3.1.5)\n",
            "Requirement already satisfied: EasyProcess in /usr/local/lib/python3.7/dist-packages (from pyvirtualdisplay==0.2.*) (0.3)\n",
            "Requirement already satisfied: scipy in /usr/local/lib/python3.7/dist-packages (from gym[box2d]==0.17.*) (1.4.1)\n",
            "Requirement already satisfied: cloudpickle<1.7.0,>=1.2.0 in /usr/local/lib/python3.7/dist-packages (from gym[box2d]==0.17.*) (1.3.0)\n",
            "Requirement already satisfied: numpy>=1.10.4 in /usr/local/lib/python3.7/dist-packages (from gym[box2d]==0.17.*) (1.19.5)\n",
            "Requirement already satisfied: pyglet<=1.5.0,>=1.4.0 in /usr/local/lib/python3.7/dist-packages (from gym[box2d]==0.17.*) (1.5.0)\n",
            "Requirement already satisfied: box2d-py~=2.3.5 in /usr/local/lib/python3.7/dist-packages (from gym[box2d]==0.17.*) (2.3.8)\n",
            "Requirement already satisfied: future in /usr/local/lib/python3.7/dist-packages (from pyglet<=1.5.0,>=1.4.0->gym[box2d]==0.17.*) (0.16.0)\n"
          ]
        }
      ],
      "source": [
        "!pip install gym pyvirtualdisplay > /dev/null 2>&1\n",
        "!apt-get install -y xvfb python-opengl ffmpeg > /dev/null 2>&1\n",
        "# install required system dependencies\n",
        "!apt-get install -y xvfb x11-utils\n",
        "\n",
        "# install required python dependencies (might need to install additional gym extras depending)\n",
        "!pip install gym[box2d]==0.17.* pyvirtualdisplay==0.2.* PyOpenGL==3.1.* PyOpenGL-accelerate==3.1.*"
      ]
    },
    {
      "cell_type": "code",
      "execution_count": 2,
      "metadata": {
        "colab": {
          "base_uri": "https://localhost:8080/"
        },
        "id": "-1O4fl6bwGG_",
        "outputId": "b555e1ae-2aea-4089-e052-d4ecf0483257"
      },
      "outputs": [
        {
          "name": "stdout",
          "output_type": "stream",
          "text": [
            "True\n",
            "cuda:0\n",
            "mkdir: cannot create directory ‘Checkpoints’: File exists\n"
          ]
        }
      ],
      "source": [
        "#@title Imports\n",
        "import numpy as np\n",
        "import matplotlib.pyplot as plt\n",
        "import time\n",
        "from matplotlib.pyplot import figure\n",
        "\n",
        "import gym\n",
        "import torch \n",
        "from torch.utils import data\n",
        "import torch.nn as nn\n",
        "import torch.optim as optim\n",
        "import torch.autograd as autograd\n",
        "import random\n",
        "from gym import wrappers\n",
        "import copy\n",
        "import gym\n",
        "from gym.wrappers import Monitor\n",
        "import glob\n",
        "import io\n",
        "import base64\n",
        "from IPython.display import HTML\n",
        "from pyvirtualdisplay import Display\n",
        "from IPython import display as ipythondisplay\n",
        "\n",
        "display = Display(visible=0, size=(1400, 900))\n",
        "display.start()\n",
        "device = torch.device('cuda:0' if torch.cuda.is_available() else 'cpu')\n",
        "print(torch.cuda.is_available())\n",
        "print(device)\n",
        "\n",
        "!mkdir Checkpoints\n"
      ]
    },
    {
      "cell_type": "code",
      "execution_count": 3,
      "metadata": {
        "id": "IIeU54J8wXkI"
      },
      "outputs": [],
      "source": [
        "#@title Deep RL Replay Buffer\n",
        "\n",
        "class ReplayBuffer:\n",
        "    def __init__(self, size, input_shape,dev):\n",
        "        self.size = size\n",
        "        self.counter = 0\n",
        "        self.state_buffer = torch.zeros((self.size, input_shape))\n",
        "        self.action_buffer = torch.zeros(self.size, dtype=torch.int64)\n",
        "        self.reward_buffer = torch.zeros(self.size)\n",
        "        self.new_state_buffer = torch.zeros((self.size, input_shape))\n",
        "        self.terminal_buffer = torch.zeros(self.size)\n",
        "        self.state_buffer.to(dev)\n",
        "        self.action_buffer.to(dev)\n",
        "        self.reward_buffer.to(dev)\n",
        "        self.new_state_buffer.to(dev)\n",
        "        self.terminal_buffer.to(dev)\n",
        "        self.dev=dev;\n",
        "\n",
        "\n",
        "\n",
        "    def store_tuples(self, state, action, reward, new_state, done):\n",
        "        idx = self.counter % self.size\n",
        "        self.state_buffer[idx] = state\n",
        "        self.action_buffer[idx] = action\n",
        "        self.reward_buffer[idx] = reward\n",
        "        self.new_state_buffer[idx] = new_state\n",
        "        self.terminal_buffer[idx] = done\n",
        "        self.counter += 1\n",
        "\n",
        "    def sample_buffer(self, batch_size):\n",
        "        max_buffer = min(self.counter, self.size)\n",
        "        batch = np.random.choice(max_buffer, batch_size, replace=False)\n",
        "        state_batch = self.state_buffer[batch].to(self.dev)\n",
        "        action_batch = self.action_buffer[batch].to(self.dev)\n",
        "        reward_batch = self.reward_buffer[batch].to(self.dev)\n",
        "        new_state_batch = self.new_state_buffer[batch].to(self.dev)\n",
        "        done_batch = self.terminal_buffer[batch].to(self.dev)\n",
        "\n",
        "        return state_batch, action_batch, reward_batch, new_state_batch, done_batch\n",
        "    def last_buffer(self, batch_size):\n",
        "        state_batch = self.state_buffer[-1:-batch_size].to(self.dev)\n",
        "        action_batch = self.action_buffer[-1:-batch_size].to(self.dev)\n",
        "        reward_batch = self.reward_buffer[-1:-batch_size].to(self.dev)\n",
        "        new_state_batch = self.new_state_buffer[-1:-batch_size].to(self.dev)\n",
        "        done_batch = self.terminal_buffer[-1:-batch_size].to(self.dev)\n",
        "\n",
        "        return state_batch, action_batch, reward_batch, new_state_batch, done_batch\n"
      ]
    },
    {
      "cell_type": "markdown",
      "metadata": {
        "id": "fG0T040FwczS"
      },
      "source": [
        "Default DQN arquitecture"
      ]
    },
    {
      "cell_type": "code",
      "execution_count": 4,
      "metadata": {
        "id": "aGrl7mfpwgfM"
      },
      "outputs": [],
      "source": [
        "class DQN(nn.Module):\n",
        "\n",
        "    def __init__(self, inputs, outputs,dfactor):\n",
        "        super(DQN, self).__init__()\n",
        "        \n",
        "        self.input_size=inputs;\n",
        "        self.output_size=outputs;\n",
        "        self.discount_factor=dfactor;\n",
        "        \n",
        "        self.layers = nn.Sequential(\n",
        "            nn.Linear(in_features=self.input_size, out_features=128),\n",
        "            nn.Linear(in_features=128, out_features=256),\n",
        "            nn.Linear(in_features=256, out_features=512),\n",
        "            nn.Linear(in_features=512, out_features=256),\n",
        "            nn.Linear(in_features=256, out_features=self.output_size)\n",
        "        )\n",
        "\n",
        "\n",
        "    # Called with either one element to determine next action, or a batch\n",
        "    # during optimization. Returns tensor([[left0exp,right0exp]...]).\n",
        "    def forward(self, x):\n",
        "        return self.layers(x)\n",
        "\n",
        "    def policy(self,state):\n",
        "       with torch.no_grad():\n",
        "            return self.__call__(state).argmax()\n",
        "     \n",
        "    def getPolicy(self,state,eps_threshold):\n",
        "        sample = random.random()\n",
        "        if sample > eps_threshold:\n",
        "            with torch.no_grad():\n",
        " \n",
        "                return self.__call__(state).argmax()\n",
        "        else:\n",
        "            return  torch.tensor([[random.randrange(self.output_size)]], device=device, dtype=torch.long)\n",
        "\n",
        "\n",
        "\n",
        " "
      ]
    },
    {
      "cell_type": "markdown",
      "metadata": {
        "id": "e9Cz-vtcwv1s"
      },
      "source": [
        "OpenAI Environment CartPole-v0\n",
        "\n",
        "###    Description:\n",
        "        A pole is attached by an un-actuated joint to a cart, which moves along a frictionless track. The pendulum starts upright, and the goal is to prevent it from falling over by increasing and reducing the cart's velocity.\n",
        "###    Source:\n",
        "        This environment corresponds to the version of the cart-pole problem described by Barto, Sutton, and Anderson\n",
        "###    Observation:\n",
        "        Type: Box(4)\n",
        "        Num     Observation               Min                     Max\n",
        "        0       Cart Position             -4.8                    4.8\n",
        "        1       Cart Velocity             -Inf                    Inf\n",
        "        2       Pole Angle                -0.418 rad (-24 deg)    0.418 rad (24 deg)\n",
        "        3       Pole Angular Velocity     -Inf                    Inf\n",
        "###    Actions:\n",
        "        Type: Discrete(2)\n",
        "        Num   Action\n",
        "        0     Push cart to the left\n",
        "        1     Push cart to the right\n",
        "        Note: The amount the velocity that is reduced or increased is not fixed; it depends on the angle the pole is pointing. This is because the center of gravity of the pole increases the amount of energy needed to move the cart underneath it\n",
        "###    Reward:\n",
        "        Reward is 1 for every step taken, including the termination step\n",
        "###    Starting State:\n",
        "        All observations are assigned a uniform random value in [-0.05..0.05]\n",
        "###    Episode Termination:\n",
        "        Pole Angle is more than 12 degrees.\n",
        "        Cart Position is more than 2.4 (center of the cart reaches the edge of the display).\n",
        "        Episode length is greater than 200.\n",
        "###     Solved Requirements:\n",
        "        Considered solved when the average return is greater than or equal to 195.0 over 100 consecutive trials."
      ]
    },
    {
      "cell_type": "code",
      "execution_count": 5,
      "metadata": {
        "cellView": "form",
        "id": "dVwFwJMNxoCw"
      },
      "outputs": [],
      "source": [
        "#@title DQN movie generation (for visual evaluation in Google Colab)\n",
        "def createMovie(Network,Filename):\n",
        "    env = gym.make(\"CartPole-v0\")\n",
        "    envX = wrappers.Monitor(env, './videos/'+Filename,force=True)\n",
        "\n",
        "    observation = envX.reset()\n",
        "\n",
        "    i=0\n",
        "    Network.eval()\n",
        "\n",
        "    while True:\n",
        "        envX.render()\n",
        "        \n",
        "        state=torch.Tensor(observation).to(device)\n",
        "      \n",
        "        action = Network.policy(state);\n",
        "             \n",
        "        observation, reward, done, info = envX.step(action.item()) \n",
        "        i=i+1;     \n",
        "        if done: \n",
        "          break;\n",
        "\n",
        "    envX.close()\n",
        "    env.close();\n",
        "    Network.train()\n",
        "    mp4list = glob.glob('./videos/'+Filename+'/*.mp4')\n",
        "    if len(mp4list) > 0:\n",
        "        mp4 = mp4list[0]\n",
        "        video = io.open(mp4, 'r+b').read()\n",
        "        encoded = base64.b64encode(video)\n",
        "        ipythondisplay.display(HTML(data='''<video alt=\"test\" autoplay \n",
        "                loop controls style=\"height: 400px;\">\n",
        "                <source src=\"data:video/mp4;base64,{0}\" type=\"video/mp4\" />\n",
        "             </video>'''.format(encoded.decode('ascii'))))\n",
        "    else: \n",
        "        print(\"Could not find video\")"
      ]
    },
    {
      "cell_type": "markdown",
      "metadata": {
        "id": "LE6SfnBL4ZOh"
      },
      "source": [
        "Dummy Net with random policy"
      ]
    },
    {
      "cell_type": "code",
      "execution_count": 6,
      "metadata": {
        "id": "pTsrsjcExD1m"
      },
      "outputs": [],
      "source": [
        "class RandomNet(nn.Module):\n",
        "\n",
        "  def __init__(self,outputs):\n",
        "      super(RandomNet, self).__init__()        \n",
        "      self.output_size=outputs;\n",
        "      \n",
        "\n",
        "  def forward(self, x):\n",
        "      return  x\n",
        "\n",
        "  def policy(self,state):\n",
        "      return  torch.tensor([[random.randrange(self.output_size)]], device=device, dtype=torch.long)\n",
        "    \n",
        "  \n",
        "\n",
        "\n"
      ]
    },
    {
      "cell_type": "markdown",
      "metadata": {
        "id": "M7SRgxRm5Ti-"
      },
      "source": [
        "Run the new netwwork with random policy"
      ]
    },
    {
      "cell_type": "code",
      "execution_count": 7,
      "metadata": {
        "colab": {
          "base_uri": "https://localhost:8080/",
          "height": 421
        },
        "id": "Z0YCI9TL5Szv",
        "outputId": "7c9f00b2-80d3-4981-a5a9-fcd8e0c05d7a"
      },
      "outputs": [
        {
          "data": {
            "text/html": [
              "<video alt=\"test\" autoplay \n",
              "                loop controls style=\"height: 400px;\">\n",
              "                <source src=\"data:video/mp4;base64,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\" type=\"video/mp4\" />\n",
              "             </video>"
            ],
            "text/plain": [
              "<IPython.core.display.HTML object>"
            ]
          },
          "metadata": {},
          "output_type": "display_data"
        }
      ],
      "source": [
        "randomnet=RandomNet(2)\n",
        "createMovie(randomnet,\"random\")"
      ]
    },
    {
      "cell_type": "markdown",
      "metadata": {
        "id": "OsEv2cZLwy3e"
      },
      "source": [
        "Initialization and Parameters:\n"
      ]
    },
    {
      "cell_type": "code",
      "execution_count": 8,
      "metadata": {
        "colab": {
          "base_uri": "https://localhost:8080/"
        },
        "id": "6yygleEXxEpG",
        "outputId": "6252a170-0e96-443e-f1eb-5fb7d078a71e"
      },
      "outputs": [
        {
          "name": "stdout",
          "output_type": "stream",
          "text": [
            "DQN(\n",
            "  (layers): Sequential(\n",
            "    (0): Linear(in_features=4, out_features=128, bias=True)\n",
            "    (1): Linear(in_features=128, out_features=256, bias=True)\n",
            "    (2): Linear(in_features=256, out_features=512, bias=True)\n",
            "    (3): Linear(in_features=512, out_features=256, bias=True)\n",
            "    (4): Linear(in_features=256, out_features=2, bias=True)\n",
            "  )\n",
            ")\n"
          ]
        }
      ],
      "source": [
        "\n",
        "\n",
        "# Sim configuration\n",
        "env = gym.make(\"CartPole-v0\")\n",
        "spec = gym.spec(\"CartPole-v0\")\n",
        "\n",
        "\n",
        "\n",
        "inputs=4\n",
        "n_actions=2\n",
        "\n",
        "#hyper-parameters\n",
        "TotalEpisodes=1000;\n",
        "MaxSteps=200;\n",
        "FreezeCounter=25;\n",
        "BatchSize=128;\n",
        "exploration_threshold=1\n",
        "exploration_threshold_min=0.01\n",
        "exploration_decay=0.002\n",
        "discount_factor=0.99\n",
        "SaveAtCounter=25\n",
        "LearningRate=0.01\n",
        "LearningRateDecay=0.97\n",
        "\n",
        "\n",
        "#network DQN\n",
        "policy_net = DQN(inputs, n_actions,discount_factor).to(device)\n",
        "target_net = DQN(inputs, n_actions,discount_factor).to(device)\n",
        "target_net.load_state_dict(policy_net.state_dict())\n",
        "target_net.eval()\n",
        "\n",
        "buffer = ReplayBuffer(1000000, inputs,device);\n",
        "\n",
        "print(policy_net)\n",
        "\n",
        "optimizer = torch.optim.Adam(policy_net.parameters(), lr=LearningRate)\n",
        "scheduler = optim.lr_scheduler.ExponentialLR(optimizer,gamma=LearningRateDecay)\n",
        "loss = torch.nn.MSELoss()\n"
      ]
    },
    {
      "cell_type": "markdown",
      "metadata": {
        "id": "VVf5wZAHxOST"
      },
      "source": [
        "DQN training"
      ]
    },
    {
      "cell_type": "code",
      "execution_count": 9,
      "metadata": {
        "id": "IPMrYDxyxVT1"
      },
      "outputs": [],
      "source": [
        "def trainModel():\n",
        "    if buffer.counter < BatchSize:\n",
        "        return 0.0\n",
        "         \n",
        "    state_batch, action_batch, reward_batch, new_state_batch, done_batch = buffer.sample_buffer(BatchSize)\n",
        "\n",
        "    q_actual = torch.gather(policy_net(state_batch),1,action_batch.reshape(-1,1))\n",
        "    with torch.no_grad():\n",
        "        q_max_next = target_net(new_state_batch).max(1)[0].detach()\n",
        "    q_target = (q_max_next * discount_factor)*(1-done_batch) + reward_batch\n",
        "\n",
        "    ll=loss(q_actual, q_target.unsqueeze(1))\n",
        "\n",
        "    # Optimize the model\n",
        "    optimizer.zero_grad()\n",
        "    ll.backward()\n",
        "    for param in policy_net.parameters():\n",
        "        param.grad.data.clamp_(-1, 1)\n",
        "    optimizer.step()\n",
        "\n",
        "    return ll.item();"
      ]
    },
    {
      "cell_type": "markdown",
      "metadata": {
        "id": "SiLK6ZG3xlUd"
      },
      "source": []
    },
    {
      "cell_type": "code",
      "execution_count": null,
      "metadata": {
        "colab": {
          "base_uri": "https://localhost:8080/",
          "height": 1000
        },
        "id": "wv8KK14wxs5r",
        "outputId": "ba605ecb-9daa-4e8d-de80-2766bee910b9"
      },
      "outputs": [
        {
          "name": "stdout",
          "output_type": "stream",
          "text": [
            "0 of 1000\n"
          ]
        },
        {
          "data": {
            "text/html": [
              "<video alt=\"test\" autoplay \n",
              "                loop controls style=\"height: 400px;\">\n",
              "                <source src=\"data:video/mp4;base64,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\" type=\"video/mp4\" />\n",
              "             </video>"
            ],
            "text/plain": [
              "<IPython.core.display.HTML object>"
            ]
          },
          "metadata": {},
          "output_type": "display_data"
        },
        {
          "name": "stdout",
          "output_type": "stream",
          "text": [
            "15.0 15 15.0\n",
            "15.0 15 15.0\n",
            "31.0 31 18.0\n",
            "41.0 41 19.0\n",
            "42.0 42 21.526315789473685\n",
            "25 of 1000\n"
          ]
        },
        {
          "data": {
            "text/html": [
              "<video alt=\"test\" autoplay \n",
              "                loop controls style=\"height: 400px;\">\n",
              "                <source src=\"data:video/mp4;base64,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\" type=\"video/mp4\" />\n",
              "             </video>"
            ],
            "text/plain": [
              "<IPython.core.display.HTML object>"
            ]
          },
          "metadata": {},
          "output_type": "display_data"
        },
        {
          "name": "stdout",
          "output_type": "stream",
          "text": [
            "46.0 46 24.85\n",
            "74.0 74 27.35\n",
            "50 of 1000\n"
          ]
        },
        {
          "data": {
            "text/html": [
              "<video alt=\"test\" autoplay \n",
              "                loop controls style=\"height: 400px;\">\n",
              "                <source src=\"data:video/mp4;base64,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\" type=\"video/mp4\" />\n",
              "             </video>"
            ],
            "text/plain": [
              "<IPython.core.display.HTML object>"
            ]
          },
          "metadata": {},
          "output_type": "display_data"
        },
        {
          "name": "stdout",
          "output_type": "stream",
          "text": [
            "75 of 1000\n"
          ]
        },
        {
          "data": {
            "text/html": [
              "<video alt=\"test\" autoplay \n",
              "                loop controls style=\"height: 400px;\">\n",
              "                <source src=\"data:video/mp4;base64,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\" type=\"video/mp4\" />\n",
              "             </video>"
            ],
            "text/plain": [
              "<IPython.core.display.HTML object>"
            ]
          },
          "metadata": {},
          "output_type": "display_data"
        }
      ],
      "source": [
        "from PartI_lib import train_loop as tl\n",
        "\n",
        "bestNet, episodes, scores, events, avg_scores, avg_scores20, exploration = tl.train_loop(policy_net, target_net, env, device, TotalEpisodes, FreezeCounter, SaveAtCounter, createMovie, MaxSteps, exploration_threshold, exploration_decay, exploration_threshold_min, buffer, trainModel)"
      ]
    },
    {
      "cell_type": "markdown",
      "metadata": {
        "id": "_qEpTPbGxu_M"
      },
      "source": [
        "Plot performance"
      ]
    },
    {
      "cell_type": "code",
      "execution_count": null,
      "metadata": {
        "id": "uWwFBt0vxxEd"
      },
      "outputs": [],
      "source": [
        "# figure(figsize=(12, 6), dpi=80)\n",
        "# plt.plot(episodes, scores)\n",
        "# plt.plot(episodes, events)\n",
        "# plt.plot(episodes, avg_scores)\n",
        "# plt.plot(episodes, avg_scores20)\n",
        "# plt.plot(episodes, exploration)\n",
        "# plt.xlabel('episodes')\n",
        "# plt.ylabel('y axis label')\n",
        "# plt.title('Report')\n",
        "# plt.legend(['scores',  'events', 'avg_scores', 'avg_scores20','exploration'])\n",
        "# plt.show()\n",
        "\n",
        "from PartI_lib import plot_performance as pp\n",
        "pp.plot_performance(episodes, scores, events, avg_scores, avg_scores20, exploration)"
      ]
    },
    {
      "cell_type": "markdown",
      "metadata": {
        "id": "i7IDgBVCx3mZ"
      },
      "source": [
        "View Best Results"
      ]
    },
    {
      "cell_type": "code",
      "execution_count": null,
      "metadata": {
        "id": "T9RpF49oOsZj"
      },
      "outputs": [],
      "source": [
        "createMovie(bestNet,'bestNet')"
      ]
    }
  ],
  "metadata": {
    "accelerator": "GPU",
    "colab": {
      "collapsed_sections": [],
      "name": "DeepRL_PartI.ipynb",
      "provenance": []
    },
    "kernelspec": {
      "display_name": "Python 3",
      "name": "python3"
    },
    "language_info": {
      "codemirror_mode": {
        "name": "ipython",
        "version": 3
      },
      "file_extension": ".py",
      "mimetype": "text/x-python",
      "name": "python",
      "nbconvert_exporter": "python",
      "pygments_lexer": "ipython3",
      "version": "3.9.7"
    }
  },
  "nbformat": 4,
  "nbformat_minor": 0
}
